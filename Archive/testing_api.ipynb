{
 "cells": [
  {
   "cell_type": "code",
   "execution_count": 31,
   "id": "2fae5945",
   "metadata": {},
   "outputs": [],
   "source": [
    "import streamlit as st\n",
    "import pandas as pd\n",
    "from st_aggrid import AgGrid, JsCode, GridOptionsBuilder\n",
    "\n",
    "\n",
    "df = pd.read_csv('data.csv')\n",
    "#builder = GridOptionsBuilder.from_dataframe(df)"
   ]
  },
  {
   "cell_type": "code",
   "execution_count": 32,
   "id": "ab83f314",
   "metadata": {},
   "outputs": [],
   "source": [
    "# builder = GridOptionsBuilder.from_dataframe(df)\n",
    "# builder.configure_column(\"Checked\", editable = True)\n",
    "# builder.configure_column(\"Link\", cellRenderer = cellRenderer1., autoHeight=True)\n",
    "# gb = builder.build()"
   ]
  },
  {
   "cell_type": "code",
   "execution_count": null,
   "id": "0fbe6e42",
   "metadata": {},
   "outputs": [],
   "source": []
  },
  {
   "cell_type": "code",
   "execution_count": 35,
   "id": "a547e444",
   "metadata": {},
   "outputs": [
    {
     "data": {
      "text/plain": [
       "{'columnDefs': [{'headerName': 'airline', 'field': 'airline'},\n",
       "  {'headerName': 'avail_seat_km_per_week', 'field': 'avail_seat_km_per_week'},\n",
       "  {'headerName': 'incidents_85_99', 'field': 'incidents_85_99'},\n",
       "  {'headerName': 'fatal_accidents_85_99', 'field': 'fatal_accidents_85_99'},\n",
       "  {'headerName': 'fatalities_85_99', 'field': 'fatalities_85_99'},\n",
       "  {'headerName': 'incidents_00_14', 'field': 'incidents_00_14'},\n",
       "  {'headerName': 'fatal_accidents_00_14', 'field': 'fatal_accidents_00_14'},\n",
       "  {'headerName': 'fatalities_00_14', 'field': 'fatalities_00_14'},\n",
       "  {'headerName': 'Checked', 'field': 'Checked', 'editable': True},\n",
       "  {'headerName': 'Link',\n",
       "   'field': 'Link',\n",
       "   'cellRenderer': '--x_x--0_0--function(params) {return \\'<form action=\\'+params.value+\\' target=\"_blank\"><input type=\"submit\" value=\"Link to file\" /></form>\\'}--x_x--0_0--',\n",
       "   'autoHeight': True}]}"
      ]
     },
     "execution_count": 35,
     "metadata": {},
     "output_type": "execute_result"
    }
   ],
   "source": [
    "coldefs = [{'headerName':i,'field':i} for i in df.columns]\n",
    "\n",
    "editable = ['Checked']\n",
    "_ = [i.update({'editable':True}) for i in coldefs if i['field'] in editable]\n",
    "\n",
    "buttons = ['Link']\n",
    "_ = [i.update({'cellRenderer':cellRenderer1.js_code, \n",
    "               'autoHeight': True}) for i in coldefs if i['field'] in buttons]\n",
    "\n",
    "grid_options = {\"columnDefs\":coldefs}\n",
    "grid_options"
   ]
  },
  {
   "cell_type": "code",
   "execution_count": 22,
   "id": "440dc6e0",
   "metadata": {},
   "outputs": [
    {
     "data": {
      "text/plain": [
       "[{'headerName': 'airline', 'field': 'airline'},\n",
       " {'headerName': 'avail_seat_km_per_week', 'field': 'avail_seat_km_per_week'},\n",
       " {'headerName': 'incidents_85_99', 'field': 'incidents_85_99'},\n",
       " {'headerName': 'fatal_accidents_85_99', 'field': 'fatal_accidents_85_99'},\n",
       " {'headerName': 'fatalities_85_99', 'field': 'fatalities_85_99'},\n",
       " {'headerName': 'incidents_00_14', 'field': 'incidents_00_14'},\n",
       " {'headerName': 'fatal_accidents_00_14', 'field': 'fatal_accidents_00_14'},\n",
       " {'headerName': 'fatalities_00_14', 'field': 'fatalities_00_14'},\n",
       " {'headerName': 'Checked', 'field': 'Checked', 'editable': True},\n",
       " {'headerName': 'Link', 'field': 'Link'}]"
      ]
     },
     "execution_count": 22,
     "metadata": {},
     "output_type": "execute_result"
    }
   ],
   "source": [
    "coldefs"
   ]
  },
  {
   "cell_type": "code",
   "execution_count": null,
   "id": "24e3e725",
   "metadata": {},
   "outputs": [],
   "source": [
    "grid_options = {\n",
    "    \"columnDefs\": [\n",
    "        {\n",
    "            \"headerName\": \"col1\",\n",
    "            \"field\": \"col1\",\n",
    "            \"editable\": True,\n",
    "        },\n",
    "        {\n",
    "            \"headerName\": \"col2\",\n",
    "            \"field\": \"col2\",\n",
    "            \"editable\": False,\n",
    "        },\n",
    "    ],\n",
    "}"
   ]
  },
  {
   "cell_type": "code",
   "execution_count": null,
   "id": "c78e0b29",
   "metadata": {},
   "outputs": [],
   "source": []
  },
  {
   "cell_type": "code",
   "execution_count": null,
   "id": "03c12bc4",
   "metadata": {},
   "outputs": [],
   "source": []
  },
  {
   "cell_type": "code",
   "execution_count": null,
   "id": "77ec008f",
   "metadata": {},
   "outputs": [],
   "source": []
  },
  {
   "cell_type": "code",
   "execution_count": 28,
   "id": "16c13398",
   "metadata": {},
   "outputs": [
    {
     "name": "stderr",
     "output_type": "stream",
     "text": [
      "/opt/homebrew/Caskroom/miniforge/base/envs/ui_env/lib/python3.10/site-packages/st_aggrid/__init__.py:42: FutureWarning: iteritems is deprecated and will be removed in a future version. Use .items instead.\n",
      "  for c, d in dataframe.dtypes.iteritems():\n"
     ]
    },
    {
     "data": {
      "text/plain": [
       "AgGridReturn(data=   col                        url     label\n",
       "0    1         https://google.com  question\n",
       "1    2  https://stackoverflow.com  question, selected_rows=[])"
      ]
     },
     "execution_count": 28,
     "metadata": {},
     "output_type": "execute_result"
    }
   ],
   "source": [
    "import pandas as pd\n",
    "import streamlit as st\n",
    "from st_aggrid import AgGrid, JsCode\n",
    "\n",
    "\n",
    "df = pd.DataFrame(\n",
    "    {   \"col\":[1,2],\n",
    "        \"url\": [\"https://google.com\",\"https://stackoverflow.com\"],\n",
    "        \"label\": [\"question\", \"question\"]\n",
    "    }\n",
    ")\n",
    "\n",
    "\n",
    "cellRenderer1 = JsCode('''function(params) {return '<form action='+params.value+'\n",
    "                                                          target=\"_blank\"><input type=\"submit\" \n",
    "                                                          value=\"Link to file\" /></form>'}'''\n",
    "                     )\n",
    "\n",
    "\n",
    "grid_options = {\n",
    "    \"columnDefs\": [\n",
    "        {\n",
    "            \"headerName\": \"col\",\n",
    "            \"field\": \"col\",\n",
    "            \"editable\": True,\n",
    "        },\n",
    "        {\n",
    "            \"headerName\": \"url\",\n",
    "            \"field\": \"url\",\n",
    "            \"editable\": False,\n",
    "            \"cellRenderer\": cellRenderer1,\n",
    "            \"autoHeight\":True\n",
    "        },\n",
    "        {\n",
    "            \"headerName\": \"label\",\n",
    "            \"field\": \"label\",\n",
    "            \"editable\": False,\n",
    "        },\n",
    "    ],\n",
    "}\n",
    "\n",
    "AgGrid(df, grid_options, allow_unsafe_jscode=True)"
   ]
  },
  {
   "cell_type": "code",
   "execution_count": 29,
   "id": "bc0eb697",
   "metadata": {},
   "outputs": [
    {
     "data": {
      "text/plain": [
       "{'columnDefs': [{'headerName': 'col', 'field': 'col', 'editable': True},\n",
       "  {'headerName': 'url',\n",
       "   'field': 'url',\n",
       "   'editable': False,\n",
       "   'cellRenderer': '--x_x--0_0--function(params) {return \\'<form action=\\'+params.value+\\' target=\"_blank\"><input type=\"submit\" value=\"Link to file\" /></form>\\'}--x_x--0_0--',\n",
       "   'autoHeight': True},\n",
       "  {'headerName': 'label', 'field': 'label', 'editable': False}],\n",
       " 'domLayout': 'autoHeight'}"
      ]
     },
     "execution_count": 29,
     "metadata": {},
     "output_type": "execute_result"
    }
   ],
   "source": [
    "grid_options"
   ]
  },
  {
   "cell_type": "code",
   "execution_count": null,
   "id": "64c6273f",
   "metadata": {},
   "outputs": [],
   "source": []
  }
 ],
 "metadata": {
  "kernelspec": {
   "display_name": "ui_env",
   "language": "python",
   "name": "ui_env"
  },
  "language_info": {
   "codemirror_mode": {
    "name": "ipython",
    "version": 3
   },
   "file_extension": ".py",
   "mimetype": "text/x-python",
   "name": "python",
   "nbconvert_exporter": "python",
   "pygments_lexer": "ipython3",
   "version": "3.10.4"
  },
  "varInspector": {
   "cols": {
    "lenName": 16,
    "lenType": 16,
    "lenVar": 40
   },
   "kernels_config": {
    "python": {
     "delete_cmd_postfix": "",
     "delete_cmd_prefix": "del ",
     "library": "var_list.py",
     "varRefreshCmd": "print(var_dic_list())"
    },
    "r": {
     "delete_cmd_postfix": ") ",
     "delete_cmd_prefix": "rm(",
     "library": "var_list.r",
     "varRefreshCmd": "cat(var_dic_list()) "
    }
   },
   "types_to_exclude": [
    "module",
    "function",
    "builtin_function_or_method",
    "instance",
    "_Feature"
   ],
   "window_display": false
  }
 },
 "nbformat": 4,
 "nbformat_minor": 5
}
